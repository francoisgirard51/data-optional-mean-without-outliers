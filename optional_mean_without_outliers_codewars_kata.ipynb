{
 "cells": [
  {
   "cell_type": "markdown",
   "id": "5af2747d",
   "metadata": {},
   "source": [
    "# Mean without outliers (Optional Challenge)"
   ]
  },
  {
   "cell_type": "markdown",
   "id": "ecea9446",
   "metadata": {},
   "source": [
    "\n",
    "\n",
    "📚 As you already know, the mean is defined by:\n",
    "\n",
    "$$ \\bar{x} = \\frac{1}{n} \\sum_{i=0}^{n} x_i = \\frac{x_1 + x_2 + ... + x_{n-1} + x_n}{n}$$\n",
    "\n",
    "⚠️ However, an outlier can wrongly influence the mean.\n",
    "\n",
    "💪 The median is a more robust measure of central tendancy.\n",
    "\n",
    "🤔 But what if we could create a function `mean_without_outliers` to compute - as the name says - the mean without outliers ?\n"
   ]
  },
  {
   "cell_type": "markdown",
   "id": "26d5e8d0",
   "metadata": {},
   "source": [
    "\n",
    "\n",
    "## Preliminary step: defining `outliers`\n",
    "\n",
    "This question implies a preliminary step: what is an `outlier` ?\n",
    "\n",
    "For each observation:\n",
    "\n",
    "* `option 1:` We could consider that an outlier is an observation with a **`z-score`** below -3 or above 3 for example. \n",
    "    - But it implies a strong assumption: you are assuming that your distribution is Gaussian.\n",
    "    - We could also be stricter with the z-score replacing 3-std-limit by 2, or more loose replacing the 3-std-limit by 4 or 5...\n",
    "\n",
    "* `option 2:` We could use the definition of an outlier in a **`whisker boxplot`** where an outlier is an observation that lives below `Q1 - 1.5 IQR` or above `Q3 + 1.5 IQR`\n",
    "\n"
   ]
  },
  {
   "cell_type": "code",
   "execution_count": 1,
   "id": "2f54afd8",
   "metadata": {},
   "outputs": [],
   "source": [
    "import numpy as np\n",
    "import pandas as pd"
   ]
  },
  {
   "cell_type": "code",
   "execution_count": 2,
   "id": "32cecd09",
   "metadata": {},
   "outputs": [],
   "source": [
    "sample = [1, 2, 3, 4, 5, 6, 7, 8, 9, 10, 100]"
   ]
  },
  {
   "cell_type": "markdown",
   "id": "3ac160a2",
   "metadata": {},
   "source": [
    "## Outliers defined by Z-score"
   ]
  },
  {
   "cell_type": "markdown",
   "id": "0bf0de86",
   "metadata": {},
   "source": [
    "### Draft\n",
    "\n",
    "- For your sample, compute:\n",
    "    - the mean\n",
    "    - the standard deviation\n",
    "    - the z-score of each observation\n",
    "- Remove the outliers (observation with a z-score higher than your cutoff or lower than -cutoff\n",
    "- Compute the mean with the remaining elements\n",
    "\n",
    "Once you are satisfied with your steps, you can wrap these steps up into a single function in the next section of this notebook."
   ]
  },
  {
   "cell_type": "code",
   "execution_count": null,
   "id": "751c9da0",
   "metadata": {
    "tags": [
     "challengify"
    ]
   },
   "outputs": [],
   "source": [
    "# YOUR CODE HERE"
   ]
  },
  {
   "cell_type": "markdown",
   "id": "be86a3c5",
   "metadata": {},
   "source": [
    "## `mean_without_outliers_z_score`"
   ]
  },
  {
   "cell_type": "code",
   "execution_count": 8,
   "id": "9a1e530b",
   "metadata": {},
   "outputs": [
    {
     "name": "stdout",
     "output_type": "stream",
     "text": [
      "Mean of Sample without Outliers: 5.5\n"
     ]
    }
   ],
   "source": [
    "def mean_without_outliers_z_score(elements):\n",
    "    ''' return the mean of of a list of elements without outliers using the z_score'''\n",
    "    mean = np.mean(elements)\n",
    "    std_dev = np.std(elements)\n",
    "    z_scores = [(x - mean) / std_dev for x in elements]\n",
    "    cutoff = 3\n",
    "    filtered_elements = [x for x, z in zip(elements, z_scores) if -cutoff <= z <= cutoff]\n",
    "    filtered_mean = np.mean(filtered_elements)\n",
    "    return filtered_mean\n",
    "\n",
    "mean_without_outliers = mean_without_outliers_z_score(sample)\n",
    "print(\"Mean of Sample without Outliers:\", mean_without_outliers)"
   ]
  },
  {
   "cell_type": "markdown",
   "id": "c1dbcb56",
   "metadata": {},
   "source": [
    "## Outliers defined by the boxplot"
   ]
  },
  {
   "cell_type": "markdown",
   "id": "77b1936d",
   "metadata": {},
   "source": [
    "### Draft\n",
    "\n",
    "- For your sample, compute:\n",
    "    - Q1\n",
    "    - Q3\n",
    "    - IQR\n",
    "    - the lower bound Q1 - 1.5 IQR\n",
    "    - the upper bound Q3 + 1.5 IQR\n",
    "- Remove the outliers (observations that are lower than the lower bound or greaterthan the upper bound\n",
    "- Compute the mean with the remaining elements\n",
    "\n",
    "Once you are satisfied with your steps, you can wrap these steps up into a single function in the next section of this notebook."
   ]
  },
  {
   "cell_type": "code",
   "execution_count": null,
   "id": "9e400339",
   "metadata": {
    "tags": [
     "challengify"
    ]
   },
   "outputs": [],
   "source": [
    "# YOUR CODE HERE"
   ]
  },
  {
   "cell_type": "markdown",
   "id": "f2b84b79",
   "metadata": {},
   "source": [
    "### `mean_without_outliers_boxplot`"
   ]
  },
  {
   "cell_type": "code",
   "execution_count": 9,
   "id": "75f95cc5",
   "metadata": {},
   "outputs": [
    {
     "name": "stdout",
     "output_type": "stream",
     "text": [
      "Mean of Sample without Outliers: 5.5\n"
     ]
    }
   ],
   "source": [
    "def mean_without_outliers_boxplot(elements):\n",
    "    ''' return the mean of elements without outliers using the boxplot definition'''\n",
    "    Q1 = np.percentile(elements, 25)\n",
    "    Q3 = np.percentile(elements, 75)\n",
    "    \n",
    "    IQR = Q3 - Q1\n",
    "    lower_bound = Q1 - 1.5 * IQR\n",
    "    upper_bound = Q3 + 1.5 * IQR\n",
    "    \n",
    "    filtered_elements = [x for x in elements if lower_bound <= x <= upper_bound]\n",
    "    filtered_mean = np.mean(filtered_elements)\n",
    "    \n",
    "    return filtered_mean\n",
    "\n",
    "mean_without_outliers = mean_without_outliers_boxplot(sample)\n",
    "print(\"Mean of Sample without Outliers:\", mean_without_outliers)"
   ]
  },
  {
   "cell_type": "markdown",
   "id": "a0cb0625",
   "metadata": {},
   "source": [
    "## Comparisons\n",
    "\n",
    "*Uncomment the following cell*"
   ]
  },
  {
   "cell_type": "code",
   "execution_count": null,
   "id": "3aa45f7b",
   "metadata": {},
   "outputs": [],
   "source": [
    "# data = {'method': ['mean', 'mean filtering by z-score', 'mean filtering by outliers'], \n",
    "#         'result': [np.mean(sample),mean_without_outliers_z_score(sample), mean_without_outliers_boxplot(sample)]}\n",
    "# comparison_df = pd.DataFrame(data = data)\n",
    "# round(comparison_df,2)"
   ]
  },
  {
   "cell_type": "markdown",
   "id": "f756c4b3",
   "metadata": {},
   "source": [
    "👏 If you managed to finish the optional, congrats !\n",
    "\n",
    "💾 Do not forget to `git add/commit/push` your work !"
   ]
  },
  {
   "cell_type": "code",
   "execution_count": null,
   "id": "87e8d9c6",
   "metadata": {},
   "outputs": [],
   "source": []
  }
 ],
 "metadata": {
  "kernelspec": {
   "display_name": "Python 3 (ipykernel)",
   "language": "python",
   "name": "python3"
  },
  "language_info": {
   "codemirror_mode": {
    "name": "ipython",
    "version": 3
   },
   "file_extension": ".py",
   "mimetype": "text/x-python",
   "name": "python",
   "nbconvert_exporter": "python",
   "pygments_lexer": "ipython3",
   "version": "3.10.6"
  },
  "toc": {
   "base_numbering": 1,
   "nav_menu": {},
   "number_sections": true,
   "sideBar": true,
   "skip_h1_title": false,
   "title_cell": "Table of Contents",
   "title_sidebar": "Contents",
   "toc_cell": false,
   "toc_position": {},
   "toc_section_display": true,
   "toc_window_display": false
  }
 },
 "nbformat": 4,
 "nbformat_minor": 5
}
